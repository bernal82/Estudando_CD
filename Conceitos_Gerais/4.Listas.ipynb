{
 "cells": [
  {
   "cell_type": "markdown",
   "metadata": {},
   "source": [
    "# Estudando Ciências de Dados\n",
    "Listas - \n",
    "\n",
    "*É uma classe e um objeto\n",
    "*Para listas são usados colchetes. \n",
    "*Listas são mutáveis\n",
    "*Pode armazenar dados de tipagem diferente\n",
    "*Os dados são organizados na ordem de entrada - FIFO (1° que entra é o 1° que sai)"
   ]
  },
  {
   "cell_type": "code",
   "execution_count": 1,
   "metadata": {},
   "outputs": [
    {
     "name": "stdout",
     "output_type": "stream",
     "text": [
      "[1, 2, 3, 4, 5]\n"
     ]
    }
   ],
   "source": [
    "#formas de criar listas\n",
    "lst = [1,2,3,4,5]\n",
    "print(lst)"
   ]
  },
  {
   "cell_type": "code",
   "execution_count": 2,
   "metadata": {},
   "outputs": [
    {
     "name": "stdout",
     "output_type": "stream",
     "text": [
      "[1, 2, 3, '4', True]\n"
     ]
    }
   ],
   "source": [
    "#vários tipos\n",
    "lst2 = [1,2,3,\"4\",True]\n",
    "print(lst2)"
   ]
  },
  {
   "cell_type": "code",
   "execution_count": 19,
   "metadata": {},
   "outputs": [
    {
     "name": "stdout",
     "output_type": "stream",
     "text": [
      "[12, [1, 2, 3, 4, 5], 'a']\n"
     ]
    }
   ],
   "source": [
    "#lista com lista\n",
    "#Se tornam objetos distintos. # No caso a lista na posição 1 é lida como um(1) objeto/elemento\n",
    "lst3 = [12,[1,2,3,4,5],\"a\"]\n",
    "print(lst3)"
   ]
  },
  {
   "cell_type": "code",
   "execution_count": 9,
   "metadata": {},
   "outputs": [
    {
     "name": "stdout",
     "output_type": "stream",
     "text": [
      "[1, 2, 3, 4, 5, 6, 7, 8, 9, 10]\n"
     ]
    }
   ],
   "source": [
    "#criando lista com range\n",
    "lst4 = list(range(1,11))\n",
    "print(lst4)"
   ]
  },
  {
   "cell_type": "code",
   "execution_count": 13,
   "metadata": {},
   "outputs": [
    {
     "name": "stdout",
     "output_type": "stream",
     "text": [
      "5\n",
      "5\n",
      "3\n"
     ]
    }
   ],
   "source": [
    "#comprimento da lista\n",
    "print(len(lst))\n",
    "print(len(lst2))\n",
    "print(len(lst3))"
   ]
  },
  {
   "cell_type": "code",
   "execution_count": 14,
   "metadata": {},
   "outputs": [
    {
     "name": "stdout",
     "output_type": "stream",
     "text": [
      "1\n",
      "[1, 2, 3, 4, 5]\n",
      "[4, 2, 3, 4, 5]\n"
     ]
    }
   ],
   "source": [
    "#acessando elemento\n",
    "print(lst[0])\n",
    "#posiçõo 1 é uma lista\n",
    "print(lst3[1])\n",
    "#alterando posição\n",
    "lst[0] = 4\n",
    "print(lst)"
   ]
  },
  {
   "cell_type": "code",
   "execution_count": 18,
   "metadata": {},
   "outputs": [
    {
     "name": "stdout",
     "output_type": "stream",
     "text": [
      "1\n",
      "2\n",
      "3\n",
      "4\n",
      "5\n",
      "6\n",
      "7\n",
      "8\n",
      "9\n",
      "10\n"
     ]
    }
   ],
   "source": [
    "#percorrendo lista\n",
    "for n in range(0, len(lst4)):\n",
    "    print(lst4[n])"
   ]
  },
  {
   "cell_type": "code",
   "execution_count": null,
   "metadata": {},
   "outputs": [],
   "source": []
  }
 ],
 "metadata": {
  "kernelspec": {
   "display_name": "Python 3 (ipykernel)",
   "language": "python",
   "name": "python3"
  },
  "language_info": {
   "codemirror_mode": {
    "name": "ipython",
    "version": 3
   },
   "file_extension": ".py",
   "mimetype": "text/x-python",
   "name": "python",
   "nbconvert_exporter": "python",
   "pygments_lexer": "ipython3",
   "version": "3.10.2"
  }
 },
 "nbformat": 4,
 "nbformat_minor": 4
}
