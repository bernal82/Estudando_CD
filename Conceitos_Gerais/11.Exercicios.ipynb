{
 "cells": [
  {
   "cell_type": "markdown",
   "id": "4a223ea8-3c9b-466d-b82f-6d0c9d789caa",
   "metadata": {},
   "source": [
    "Exercícios\n"
   ]
  },
  {
   "cell_type": "code",
   "execution_count": 8,
   "id": "77695a33-47f4-4084-b077-f879b083beff",
   "metadata": {},
   "outputs": [
    {
     "name": "stdout",
     "output_type": "stream",
     "text": [
      "Amplitude igual a: 40\n"
     ]
    }
   ],
   "source": [
    "# Exercício 1\n",
    "#  Faça um programa que tenha uma função chamada amplitude. \n",
    "# A função deve receber uma lista e imprimir a amplitude.\n",
    "\n",
    "def amplitude(num): # O nome não precisa ser o mesmo da variável, pois aqui só está \n",
    "                    # informando que vai receber um parâmetro lá na frente.\n",
    "    print(\"Amplitude igual a:\", max(num) - min(num))   \n",
    "\n",
    "resultado = [10, 20, 30, 40, 50] # variável\n",
    "amplitude(resultado) # chamando a função e passando o parâmetro \n",
    "    "
   ]
  },
  {
   "cell_type": "code",
   "execution_count": 7,
   "id": "f09b09e7-dad0-4b97-82fc-652a13525807",
   "metadata": {},
   "outputs": [
    {
     "name": "stdout",
     "output_type": "stream",
     "text": [
      "P\n",
      "r\n",
      "o\n",
      "g\n",
      "r\n",
      "a\n",
      "m\n",
      "ç\n",
      "ã\n",
      "o\n"
     ]
    }
   ],
   "source": [
    "# Exercício 2\n",
    "# Faça uma função que receba uma string e imprima esta string na forma vertical\n",
    "\n",
    "def imprime(string):\n",
    "    for n in range(0, len(string)):       \n",
    "        print(string[n])\n",
    "        #print(string[n], end=\"\")\n",
    "\n",
    "\n",
    "imprime(\"Programção\")"
   ]
  },
  {
   "cell_type": "code",
   "execution_count": 8,
   "id": "e6a1eb4f-b89f-479e-a048-1fd9eb7d1350",
   "metadata": {},
   "outputs": [
    {
     "name": "stdin",
     "output_type": "stream",
     "text": [
      "Informe o peso:  0\n"
     ]
    },
    {
     "name": "stdout",
     "output_type": "stream",
     "text": [
      "Valor igual a R$ 50,00\n"
     ]
    }
   ],
   "source": [
    "# Exercício 3\n",
    "'''Crie um programa que leia o peso de uma carga em números inteiros. Se o peso for até 10 kg, informe \n",
    "que o valor será de R$ 50,00. Entre 11 e 20 kg, informe que o valor será de R$ 80. Se for maior que  20 \n",
    "informe que o transporte não é aceito. Teste vários pesos'''\n",
    "\n",
    "def peso(carga):\n",
    "    if carga <= 10:\n",
    "        print(\"Valor igual a R$ 50,00\")\n",
    "    elif carga > 10 and carga <= 20:\n",
    "        print(\"Valor igual a R$ 80,00\")    \n",
    "    elif carga > 20:\n",
    "        print(\"Transporte não caeito!\")\n",
    "\n",
    "carga = int(input(\"Informe o peso: \"))\n",
    "\n",
    "peso(carga)\n",
    "\n",
    "\n"
   ]
  },
  {
   "cell_type": "code",
   "execution_count": null,
   "id": "1acb9ab4-0258-4803-a080-fec512286498",
   "metadata": {},
   "outputs": [],
   "source": []
  }
 ],
 "metadata": {
  "kernelspec": {
   "display_name": "Python 3 (ipykernel)",
   "language": "python",
   "name": "python3"
  },
  "language_info": {
   "codemirror_mode": {
    "name": "ipython",
    "version": 3
   },
   "file_extension": ".py",
   "mimetype": "text/x-python",
   "name": "python",
   "nbconvert_exporter": "python",
   "pygments_lexer": "ipython3",
   "version": "3.10.2"
  }
 },
 "nbformat": 4,
 "nbformat_minor": 5
}
