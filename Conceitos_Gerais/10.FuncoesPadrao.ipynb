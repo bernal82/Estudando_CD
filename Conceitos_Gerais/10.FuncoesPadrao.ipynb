{
 "cells": [
  {
   "cell_type": "markdown",
   "metadata": {},
   "source": [
    "# Estudando Ciências de Dados\n",
    "\n",
    "Funções Padrão\n",
    "\n"
   ]
  },
  {
   "cell_type": "code",
   "execution_count": 1,
   "metadata": {},
   "outputs": [
    {
     "name": "stdout",
     "output_type": "stream",
     "text": [
      "200\n",
      "Maior valor:  45\n",
      "Menor valor:  1\n",
      "Soma:  108\n",
      "Arredondamento:  2.35\n"
     ]
    }
   ],
   "source": [
    "#funções internas\n",
    "print(abs(-200))\n",
    "lst = [1,2,30,30,45]\n",
    "print(\"Maior valor: \", max(lst))\n",
    "print(\"Menor valor: \", min(lst))\n",
    "print(\"Soma: \", sum(lst))\n",
    "print(\"Arredondamento: \", round(2.34567,2))"
   ]
  },
  {
   "cell_type": "code",
   "execution_count": null,
   "metadata": {},
   "outputs": [],
   "source": [
    "#statistica\n",
    "from statistics import *\n",
    "print(\"Média: \", mean(lst))\n",
    "print(\"Mediana: \", median(lst))\n",
    "print(\"Moda: \", mode(lst))"
   ]
  },
  {
   "cell_type": "code",
   "execution_count": null,
   "metadata": {},
   "outputs": [],
   "source": [
    "#desvio padrão da amostra\n",
    "print(\"Desvio padrão: \", stdev(lst))"
   ]
  },
  {
   "cell_type": "code",
   "execution_count": null,
   "metadata": {},
   "outputs": [],
   "source": [
    "#variancia da amostra\n",
    "print(\"Variância: \", variance(lst))"
   ]
  },
  {
   "cell_type": "code",
   "execution_count": 2,
   "metadata": {},
   "outputs": [
    {
     "name": "stdout",
     "output_type": "stream",
     "text": [
      "<class 'numpy.ndarray'>\n",
      "[[0.62745433 0.63579173 0.58722146 0.23908294 0.9564721  0.97172113\n",
      "  0.97112834 0.74970755]\n",
      " [0.02300512 0.68949044 0.88805358 0.10959169 0.25513246 0.81447433\n",
      "  0.98164982 0.86288193]\n",
      " [0.50012999 0.28267864 0.501158   0.82607786 0.66234265 0.36319321\n",
      "  0.85055403 0.06554325]\n",
      " [0.81150612 0.77238088 0.04197479 0.80685734 0.59159272 0.53534091\n",
      "  0.29767951 0.54722   ]\n",
      " [0.51298988 0.53124382 0.09410855 0.34709971 0.17854439 0.41698187\n",
      "  0.05624955 0.81362799]\n",
      " [0.0678462  0.83808171 0.35164117 0.8280241  0.16817953 0.55669527\n",
      "  0.57366032 0.44288269]\n",
      " [0.73317697 0.22665858 0.14469122 0.47383199 0.01130359 0.94747742\n",
      "  0.06854399 0.67067643]\n",
      " [0.15777794 0.88198595 0.51953572 0.0390304  0.24860967 0.6491343\n",
      "  0.87072355 0.38851843]]\n"
     ]
    }
   ],
   "source": [
    "from numpy import *\n",
    "a = random.random((8,8))\n",
    "print(type(a))\n",
    "print(a)"
   ]
  },
  {
   "cell_type": "code",
   "execution_count": null,
   "metadata": {},
   "outputs": [],
   "source": []
  }
 ],
 "metadata": {
  "kernelspec": {
   "display_name": "Python 3 (ipykernel)",
   "language": "python",
   "name": "python3"
  },
  "language_info": {
   "codemirror_mode": {
    "name": "ipython",
    "version": 3
   },
   "file_extension": ".py",
   "mimetype": "text/x-python",
   "name": "python",
   "nbconvert_exporter": "python",
   "pygments_lexer": "ipython3",
   "version": "3.10.2"
  }
 },
 "nbformat": 4,
 "nbformat_minor": 4
}
