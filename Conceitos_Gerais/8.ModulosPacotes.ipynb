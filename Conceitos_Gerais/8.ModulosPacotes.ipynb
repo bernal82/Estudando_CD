{
 "cells": [
  {
   "cell_type": "markdown",
   "metadata": {},
   "source": [
    "# Estudando Ciências de Dados\n",
    "\n",
    "Módulos e Pacotes\n",
    "\n",
    "Há módulos e pacotes que são nativos, porém, outros necessitam ser instalados.\n",
    "Em ambos os casos será necessário usar a função import para usar a função/pacote.\n"
   ]
  },
  {
   "cell_type": "code",
   "execution_count": 1,
   "metadata": {},
   "outputs": [
    {
     "name": "stdout",
     "output_type": "stream",
     "text": [
      "25\n",
      "25.0\n"
     ]
    }
   ],
   "source": [
    "import statistics \n",
    "#nesse método é necessário invocar módulo e os pacotes \n",
    "z = [10,20,30,40] # lista\n",
    "x = statistics.mean(z) #média aritimética\n",
    "y = statistics.median(z) # mediana\n",
    "print(x)\n",
    "print(y)"
   ]
  },
  {
   "cell_type": "code",
   "execution_count": 4,
   "metadata": {},
   "outputs": [
    {
     "name": "stdout",
     "output_type": "stream",
     "text": [
      "25\n",
      "25.0\n"
     ]
    }
   ],
   "source": [
    "import statistics  as est #criando um \"apelido\" para a função statistics\n",
    "#nesse método é necessário invocar módulo e os pacotes \n",
    "z = [10,20,30,40]\n",
    "x = est.mean(z) #o pacote é invocado pelo apelido\n",
    "y = est.median(z) #o pacote é invocado pelo apelido\n",
    "print(x)\n",
    "print(y)"
   ]
  },
  {
   "cell_type": "code",
   "execution_count": null,
   "metadata": {},
   "outputs": [],
   "source": [
    "from statistics import mean, median #especificando as função que serão importadas do módulo\n",
    "z = [10,20,30,40]\n",
    "x = mean(z) #dessa forma não é necessário invocar o pacote, somenete a função\n",
    "y = median(z)\n",
    "print(x)\n",
    "print(y)"
   ]
  },
  {
   "cell_type": "code",
   "execution_count": null,
   "metadata": {},
   "outputs": [],
   "source": [
    "from statistics import * #com \" * \" será importado todas as funções do módulo. \n",
    "#nesse caso há o risco de se criar um duplicidade nas funções, já que existem módulos\n",
    "#que possuem funções iguais. Requrendo mais recursos computacionais.\n",
    "z = [10,20,30,40]\n",
    "x = mean(z)\n",
    "y = median(z)\n",
    "print(x)\n",
    "print(y)"
   ]
  },
  {
   "cell_type": "code",
   "execution_count": null,
   "metadata": {},
   "outputs": [],
   "source": []
  }
 ],
 "metadata": {
  "kernelspec": {
   "display_name": "Python 3 (ipykernel)",
   "language": "python",
   "name": "python3"
  },
  "language_info": {
   "codemirror_mode": {
    "name": "ipython",
    "version": 3
   },
   "file_extension": ".py",
   "mimetype": "text/x-python",
   "name": "python",
   "nbconvert_exporter": "python",
   "pygments_lexer": "ipython3",
   "version": "3.10.2"
  }
 },
 "nbformat": 4,
 "nbformat_minor": 4
}
