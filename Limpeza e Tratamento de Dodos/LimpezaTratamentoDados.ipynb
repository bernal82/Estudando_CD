{
 "cells": [
  {
   "cell_type": "markdown",
   "id": "7003883e-4dbd-46fa-80aa-074f03b0ac6d",
   "metadata": {},
   "source": [
    "Limpeza e Tratamento de dados\n",
    "\n",
    "Possui dois momentos importantes:\n",
    "\n",
    "1 - Produção\n",
    "Sistemas estão gerando dados. Como identificação de funcionários, horários, notas, entrada e saída de produtos. Todos eles poduzem dados e não inoformações.\n",
    "\n",
    "2 - Análise\n",
    "Os sitemas análiticos não produzem dados, mas sim, informações e conhecimento. Carregam dados dos sistemas de produção. \n",
    "\n",
    "3 - Problemas nos dados\n",
    "Geralmente o cientista gasta 80% do tempo limpando e tratando os dados.\n",
    "Alguns dos problemas mais comuns são:\n",
    "* Banco de dados sem restrições para entradas;\n",
    "* Atualizações diretas no banco;\n",
    "* Sistemas antigos (Podem dar problemas com caracteres por exemplo);\n",
    "* Falta de padrões nas informações\n",
    "  Na produção os dados não são alterados para um valor padrão, pois possuem individualidade.\n",
    "  Na análise o dados possui um valor coletivo, e deve ser corrigido para o bem do modelo.\n",
    "\n",
    "* O modelo não suporta dados nulos, ou faltanto.\n",
    "* Os registros pode ter:\n",
    "  1. duplicidades - Dados duplicados.\n",
    "  2. Consistência - O mesmo cliente com duas idades diferentes.\n",
    "  3. Completude - Idades menores que 0, ou maiores que 120.\n",
    "  4. Conformidade - Estado do Brasil com a sigla ZN.\n",
    "  5. Integridade - Cliente na base que não existe.\n"
   ]
  }
 ],
 "metadata": {
  "kernelspec": {
   "display_name": "Python 3 (ipykernel)",
   "language": "python",
   "name": "python3"
  },
  "language_info": {
   "codemirror_mode": {
    "name": "ipython",
    "version": 3
   },
   "file_extension": ".py",
   "mimetype": "text/x-python",
   "name": "python",
   "nbconvert_exporter": "python",
   "pygments_lexer": "ipython3",
   "version": "3.10.2"
  }
 },
 "nbformat": 4,
 "nbformat_minor": 5
}
